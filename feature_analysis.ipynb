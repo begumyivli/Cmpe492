{
 "cells": [
  {
   "cell_type": "code",
   "execution_count": null,
   "metadata": {},
   "outputs": [],
   "source": [
    "import pandas as pd\n",
    "import matplotlib.pyplot as plt\n",
    "df = pd.read_csv('final_data.csv')"
   ]
  },
  {
   "cell_type": "code",
   "execution_count": null,
   "metadata": {},
   "outputs": [],
   "source": [
    "df.head()"
   ]
  },
  {
   "cell_type": "code",
   "execution_count": null,
   "metadata": {},
   "outputs": [],
   "source": [
    "df.info()"
   ]
  },
  {
   "cell_type": "code",
   "execution_count": null,
   "metadata": {},
   "outputs": [],
   "source": [
    "non_null_df_counts = df.count()\n",
    "non_null_df_counts.plot(kind= 'bar')"
   ]
  },
  {
   "cell_type": "code",
   "execution_count": null,
   "metadata": {},
   "outputs": [],
   "source": [
    "df.describe()"
   ]
  },
  {
   "cell_type": "code",
   "execution_count": null,
   "metadata": {},
   "outputs": [],
   "source": [
    "#DATE PROCESSING\n",
    "df.rename(columns = { 'date': 'date1'}, inplace = True )\n",
    "df['date2'] = pd.to_datetime(df['date1'] , format='%Y-%m-%d %H:%M:%S.%f %z') \n",
    "df['date'] = df['date2'].dt.date\n",
    "df['time'] = df['date2'].dt.time\n",
    "df = df.drop(['date1','date2'], axis = 1)"
   ]
  },
  {
   "cell_type": "code",
   "execution_count": null,
   "metadata": {},
   "outputs": [],
   "source": [
    "#DATE ANALYSIS\n",
    "\n",
    "min_date = df['date'].min()\n",
    "max_date = df['date'].max()\n",
    "print(\"Minimum Date:\" , min_date)\n",
    "print(\"Maximum Date:\" ,max_date)\n",
    "\n",
    "\n",
    "\n",
    "date_freq = df['date'].value_counts().sort_index()\n",
    "plt.figure(figsize=(12, 6))\n",
    "date_freq.plot(kind='line', marker='o')\n",
    "plt.title('Frequencies between the dates: February 17 - December 17' )\n",
    "plt.xlabel('Date')\n",
    "plt.ylabel('Frequency')\n",
    "plt.grid(True)\n",
    "plt.xticks(rotation=45)\n",
    "plt.show()"
   ]
  },
  {
   "cell_type": "code",
   "execution_count": null,
   "metadata": {},
   "outputs": [],
   "source": [
    "# CUSTOMER_UNIQUE_ID ANALYSIS   -  HER MUSTERI TOPLAM KAC MESAJ ATMIS\n",
    "customer_entry_counts = df['customer_unique_id'].value_counts()\n",
    "\n",
    "entry_count_by_customer = customer_entry_counts.value_counts().sort_index()\n",
    "entry_count_by_customer = entry_count_by_customer[entry_count_by_customer.index <= 30]\n",
    "\n",
    "\n",
    "plt.figure(figsize=(10, 6))\n",
    "entry_count_by_customer.plot(kind='bar')\n",
    "plt.title('Distribution of Number of Customers for Different Message Counts')\n",
    "plt.xlabel('Number of Messages per Customer')\n",
    "plt.ylabel('Customer Count')\n",
    "plt.xticks(rotation=0)\n",
    "plt.show()"
   ]
  },
  {
   "cell_type": "code",
   "execution_count": null,
   "metadata": {},
   "outputs": [],
   "source": [
    "# CUSTOMER_UNIQUE_ID ANALYSIS   -  HER FARKLI MUSTERI KAC KERE GIRIS YAPMIS\n",
    "\n",
    "customer_date_counts = df.groupby(['customer_unique_id', 'date']).size().reset_index(name='count')\n",
    "\n",
    "customer_total_entries = customer_date_counts.groupby('customer_unique_id')['count'].sum().reset_index(name='total_entries')\n",
    "\n",
    "customer_count_by_entries = customer_total_entries['total_entries'].value_counts().sort_index()\n",
    "\n",
    "customer_count_by_entries = customer_count_by_entries[customer_count_by_entries.index <= 30]\n",
    "\n",
    "plt.figure(figsize=(10, 6))\n",
    "customer_count_by_entries.plot(kind='bar')\n",
    "plt.title('Customer Number X Number of Usage of Chatbot')\n",
    "plt.xlabel('Number of Usage of Chatbot')\n",
    "plt.ylabel('Customer Number')\n",
    "plt.xticks(rotation=90)\n",
    "plt.show()"
   ]
  },
  {
   "cell_type": "code",
   "execution_count": null,
   "metadata": {},
   "outputs": [],
   "source": [
    "# MESSAGE COLUMN ANALYSIS\n",
    "\n",
    "message_counts = df['fixed_message'].value_counts()\n",
    "\n",
    "top_5_messages = message_counts.head(5)\n",
    "\n",
    "plt.figure(figsize=(10, 6))\n",
    "top_5_messages.plot(kind='bar')\n",
    "plt.title('Top 5 Most Sent Messages and Their Frequencies')\n",
    "plt.xlabel('Message')\n",
    "plt.ylabel('Frequency')\n",
    "plt.xticks(rotation=90)\n",
    "plt.show()"
   ]
  },
  {
   "cell_type": "code",
   "execution_count": null,
   "metadata": {},
   "outputs": [],
   "source": [
    "print(\"DataFrame Info before deleting xwelcomex messages\")\n",
    "df.info()"
   ]
  },
  {
   "cell_type": "code",
   "execution_count": null,
   "metadata": {},
   "outputs": [],
   "source": [
    "df = df[df['fixed_message'] != 'xwelcomex']\n",
    "print(\"DataFrame Info after deleting xwelcomex messages\")\n",
    "df.info()\n",
    "print(1059645 - 488645, \" rows eliminated.\")"
   ]
  },
  {
   "cell_type": "code",
   "execution_count": null,
   "metadata": {},
   "outputs": [],
   "source": [
    "import re\n",
    "pattern_style = r'<p>(.*?)</p>'\n",
    "pattern_message = r'\"message\":\\s*\"([^\"]*)\"'\n",
    "\n",
    "def extract_message(cell):\n",
    "    if '<style' in cell:\n",
    "        # strings contain `<style>` \n",
    "        cell = re.sub(r'<style.*?</style>', '', cell, flags=re.DOTALL)\n",
    "        match = re.search(pattern_style, cell, re.DOTALL)\n",
    "    else:\n",
    "        # strings do not contain`<style>` \n",
    "        match = re.search(pattern_message, cell)\n",
    "    \n",
    "    if match:\n",
    "        return match.group(1)\n",
    "    return \"NON-APPLICABLE\"  # If no match, return None\n",
    "\n",
    "df['fixed_answer'] = df['answer'].apply(extract_message)\n",
    "\n",
    "print(df.head(10))"
   ]
  },
  {
   "cell_type": "code",
   "execution_count": null,
   "metadata": {},
   "outputs": [],
   "source": [
    "import matplotlib.pyplot as plt\n",
    "import textwrap\n",
    "\n",
    "# FIXED ANSWER COLUMN ANALYSIS\n",
    "fixed_answer_counts = df['fixed_answer'].value_counts()\n",
    "\n",
    "top_10_answers = fixed_answer_counts.head(10)\n",
    "\n",
    "def wrap_labels(labels, width=15):\n",
    "    return ['\\n'.join(textwrap.wrap(label, width=width)) for label in labels]\n",
    "\n",
    "plt.figure(figsize=(10, 6))\n",
    "top_10_answers.plot(kind='bar')\n",
    "\n",
    "wrapped_labels = wrap_labels(top_10_answers.index, width=8)\n",
    "plt.xticks(range(len(top_10_answers)), wrapped_labels, rotation=0)\n",
    "\n",
    "plt.title('Most given 10 answers')\n",
    "plt.xlabel('Answer')\n",
    "plt.ylabel('Frequency')\n",
    "plt.show()"
   ]
  },
  {
   "cell_type": "code",
   "execution_count": null,
   "metadata": {},
   "outputs": [],
   "source": [
    "# CATEGORY NAME AND SUPER CATEGORY ANALYSIS\n",
    "\n",
    "super_category_dict = {}\n",
    "grouped = df.groupby('super_category')\n",
    "\n",
    "for super_category, group in grouped:\n",
    "    unique_category_names = group['category_name'].unique()\n",
    "    super_category_dict[super_category] = unique_category_names\n",
    "\n",
    "for super_category, category_names in super_category_dict.items():\n",
    "    print(f\"Super Category: {super_category}, Category Names: {', '.join(category_names)}\")"
   ]
  },
  {
   "cell_type": "code",
   "execution_count": null,
   "metadata": {},
   "outputs": [],
   "source": [
    "# Group by customer_unique_id and date, then concatenate messages and answers\n",
    "#conversation_df = df.groupby(['customer_unique_id', 'date']).apply(\n",
    "#    lambda x: ' '.join('\\n     CUSTOMER ------>  ' + x['fixed_message'] + '\\n      FIBOT  --------->     ' + x['fixed_answer'])\n",
    "#).reset_index(name='conversation')\n",
    "\n",
    "#conversation_df.head()\n",
    "\n",
    "\n",
    "row_count_df = df.groupby(['customer_unique_id', 'date']).size().reset_index(name='row_count')\n",
    "\n",
    "# Group by 'customer_unique_id' and 'date' and aggregate 'fixed_message' and 'fixed_answer'\n",
    "conversation_df = df.groupby(['customer_unique_id', 'date']).apply(\n",
    "    lambda x: ' '.join('\\n     CUSTOMER ------>  ' + x['fixed_message'] + '\\n      FIBOT  --------->     ' + x['fixed_answer'])\n",
    ").reset_index(name='conversation')\n",
    "\n",
    "# Merge conversation_df with row_count_df on 'customer_unique_id' and 'date'\n",
    "conversation_df = pd.merge(conversation_df, row_count_df, on=['customer_unique_id', 'date'], how='left')\n",
    "\n",
    "conversation_df.head()"
   ]
  },
  {
   "cell_type": "code",
   "execution_count": null,
   "metadata": {},
   "outputs": [],
   "source": [
    "import matplotlib.pyplot as plt\n",
    "\n",
    "# getting the frequencies of different row_counts\n",
    "# Count the frequencies of each unique value in the 'row_count' column\n",
    "counts = conversation_df['row_count'].value_counts()\n",
    "\n",
    "# Sort the counts by index (row counts)\n",
    "counts = counts.sort_index()\n",
    "\n",
    "plt.figure(figsize=(10, 6))\n",
    "plt.bar(counts.index, counts.values)\n",
    "\n",
    "plt.xlabel('Message Number')\n",
    "plt.ylabel('Frequency')\n",
    "plt.title('Frequencies of Row Counts')\n",
    "\n",
    "plt.xlim(0, 20)\n",
    "plt.show()"
   ]
  },
  {
   "cell_type": "code",
   "execution_count": null,
   "metadata": {},
   "outputs": [],
   "source": [
    "# discarding the ones with row_count<3\n",
    "conversation_df = conversation_df[conversation_df['row_count'] >=3]\n",
    "conversation_df.info()"
   ]
  },
  {
   "cell_type": "code",
   "execution_count": null,
   "metadata": {},
   "outputs": [],
   "source": [
    "conversation_df['label'] = None\n",
    "conversation_df.to_csv('conversations.csv',index=False)"
   ]
  },
  {
   "cell_type": "code",
   "execution_count": null,
   "metadata": {},
   "outputs": [],
   "source": [
    "df_sampled_4_percent = conversation_df.sample(frac=0.04, random_state=42)\n",
    "df_sampled_96_percent = conversation_df.drop(df_sampled_4_percent.index)"
   ]
  },
  {
   "cell_type": "code",
   "execution_count": null,
   "metadata": {},
   "outputs": [],
   "source": [
    "# Load dataset\n",
    "df2 = pd.read_csv('data_2000_rows.csv') \n",
    "labels = pd.read_csv('labels_from_1_to_1000.csv')\n",
    "df2 = df2.drop('label',axis=1)\n",
    "df2 = df2.drop('Unnamed: 0',axis=1)\n",
    "df2 = df2.drop('customer_unique_id',axis=1)\n",
    "df2 = df2.drop('date',axis=1)\n",
    "df2 = df2.drop('row_count',axis=1)\n",
    "df2 = df2.head(1000)\n",
    "labels = labels.rename( columns = {'9' : 'label'})\n",
    "df2 = df2.rename( columns = {'conversation' : 'text'})\n",
    "df2['label'] = labels['label'].copy()\n",
    "print(df2.info())\n",
    "print(df2.head())"
   ]
  },
  {
   "cell_type": "code",
   "execution_count": null,
   "metadata": {},
   "outputs": [],
   "source": [
    "# df2.replace(-1, 0, inplace=True) # We tried both scenario\n",
    "# Count the unique values in the 'label' column\n",
    "label_counts = df2['label'].value_counts()\n",
    "\n",
    "plt.figure(figsize=(10, 6))  \n",
    "plt.bar(label_counts.index, label_counts.values)\n",
    "\n",
    "plt.xlabel('Labels')\n",
    "plt.ylabel('Frequency')\n",
    "plt.title('Frequency of Each Label in Dialogs')\n",
    "\n",
    "# Show the plot\n",
    "plt.show()"
   ]
  }
 ],
 "metadata": {
  "language_info": {
   "name": "python"
  }
 },
 "nbformat": 4,
 "nbformat_minor": 2
}
